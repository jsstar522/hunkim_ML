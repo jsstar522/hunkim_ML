{
  "nbformat": 4,
  "nbformat_minor": 0,
  "metadata": {
    "colab": {
      "name": "03_1D_Gaussian_Distribution_GAN_Example.ipynb",
      "version": "0.3.2",
      "provenance": [],
      "collapsed_sections": [],
      "include_colab_link": true
    },
    "kernelspec": {
      "name": "python3",
      "display_name": "Python 3"
    }
  },
  "cells": [
    {
      "cell_type": "markdown",
      "metadata": {
        "id": "view-in-github",
        "colab_type": "text"
      },
      "source": [
        "<a href=\"https://colab.research.google.com/github/jsstar522/hunkim_ML/blob/master/GAN/03_1D_Gaussian_Distribution_GAN_Example.ipynb\" target=\"_parent\"><img src=\"https://colab.research.google.com/assets/colab-badge.svg\" alt=\"Open In Colab\"/></a>"
      ]
    },
    {
      "cell_type": "markdown",
      "metadata": {
        "id": "dJMwpCuv_xsX",
        "colab_type": "text"
      },
      "source": [
        "# Gaussian 분포 GAN 모델 적용\n",
        "\n",
        "input 데이터를 Gaussian 분포로 만든 다음 GAN 모델을 통해 최대한 input 분포와 비슷하게 뽑아내겠습니다. "
      ]
    },
    {
      "cell_type": "markdown",
      "metadata": {
        "id": "bg2JbHzySi3n",
        "colab_type": "text"
      },
      "source": [
        "## Input 데이터 생성과 데이터 입력\n",
        "\n",
        "### Discriminator\n",
        "Discriminator에 들어가는 input 데이터는 평균 4, 표준편차 1.25의 분포를 가지고 있는 n개의 데이터입니다. Tensor는 (1, n)의 형태를 가지고 있습니다.\n",
        "\n",
        "### Generator\n",
        "Generator 모델에 들어가는 input 데이터 (noise)는 0~1의 값을 가지고 있는 무작위 n개의 데이터입니다. 그리고 layer를 통과한 값은 Discriminator로 들어가므로 Discriminator의 input인 1 x n의 형태를 띄어야 합니다."
      ]
    },
    {
      "cell_type": "code",
      "metadata": {
        "id": "mKWm4iDBIRLA",
        "colab_type": "code",
        "colab": {
          "base_uri": "https://localhost:8080/",
          "height": 1000
        },
        "outputId": "57e83ecf-bb41-481d-9028-b40a87ded72e"
      },
      "source": [
        "import numpy as np\n",
        "import tensorflow as tf\n",
        "\n",
        "\n",
        "data_mean = 4\n",
        "data_stddev = 1.25\n",
        "\n",
        "g_input_size = 1\n",
        "g_hidden_size = 256\n",
        "g_output_size = 1\n",
        "\n",
        "d_input_size = 100\n",
        "d_hidden_size = 256\n",
        "d_output_size = 1\n",
        "\n",
        "minibatch_size = d_input_size\n",
        "\n",
        "## discriminator 정규분포로 뽑기 (1 x n)\n",
        "def get_distribution_sampler(mu, sigma):\n",
        "    return lambda n: tf.convert_to_tensor(np.random.normal(mu, sigma, (1, n)))\n",
        "\n",
        "## generator 무작위 uniform 뽑기 ( m x n )\n",
        "def get_generator_input_sampler():\n",
        "    return lambda m, n : tf.convert_to_tensor(np.random.uniform(0, 1, (m, n)))\n",
        "\n",
        "\n",
        "test_d = get_distribution_sampler(data_mean, data_stddev)\n",
        "sess = tf.Session()\n",
        "print(test_d(d_input_size))\n",
        "print(sess.run(test_d(d_input_size)))\n",
        "\n",
        "test_g = get_generator_input_sampler()\n",
        "print(test_g(minibatch_size, g_input_size))\n",
        "print(sess.run(test_g(minibatch_size, g_input_size)))"
      ],
      "execution_count": 69,
      "outputs": [
        {
          "output_type": "stream",
          "text": [
            "Tensor(\"Const_21:0\", shape=(1, 100), dtype=float64)\n",
            "[[3.56201999 2.91720754 3.2461213  3.53618347 4.32595812 4.0344969\n",
            "  3.36136328 5.06961147 4.26005992 2.35930401 2.52253729 5.10616605\n",
            "  3.36409819 6.55941718 4.59743423 3.52897069 2.7398972  5.71246107\n",
            "  2.85082859 6.3360992  6.09603312 3.88712081 5.08315305 4.92549988\n",
            "  4.31420518 4.1922948  3.61684676 5.46483484 3.77688295 5.04399559\n",
            "  7.22468822 2.60433647 5.21002754 4.58196723 4.15753422 4.94395047\n",
            "  5.83101531 3.47839572 3.6401248  3.4076198  5.1772122  3.90984997\n",
            "  2.39486091 3.55844388 5.00666411 3.08378989 5.90240914 3.90770068\n",
            "  3.77823279 5.19817219 4.9416321  3.01368067 3.10479161 3.44060943\n",
            "  4.32433781 3.4197083  3.96652456 4.19125024 3.40164208 5.21437072\n",
            "  3.48777905 4.46757548 3.82684589 5.30608454 5.70211158 2.7473225\n",
            "  4.74844075 1.11733646 4.12962366 4.35204567 1.78801713 2.68070302\n",
            "  2.2768711  2.31877883 2.77709222 2.46275101 6.04991288 3.57838386\n",
            "  3.24175202 5.93514636 2.2758573  3.52392904 3.78733321 4.51656049\n",
            "  1.73820718 4.85969208 2.17040255 5.46250149 3.40933143 4.62414347\n",
            "  4.40435883 3.08257452 3.47695341 3.1032057  2.17059204 4.04192913\n",
            "  5.99644298 4.49368924 4.11895927 2.52853832]]\n",
            "Tensor(\"Const_23:0\", shape=(100, 1), dtype=float64)\n",
            "[[0.99300667]\n",
            " [0.49305268]\n",
            " [0.28245475]\n",
            " [0.24610316]\n",
            " [0.15227693]\n",
            " [0.4779382 ]\n",
            " [0.70294041]\n",
            " [0.75924382]\n",
            " [0.93936214]\n",
            " [0.06081784]\n",
            " [0.17375485]\n",
            " [0.12026071]\n",
            " [0.10012487]\n",
            " [0.74174973]\n",
            " [0.5210528 ]\n",
            " [0.38170544]\n",
            " [0.40801874]\n",
            " [0.32867469]\n",
            " [0.44705709]\n",
            " [0.7292694 ]\n",
            " [0.44742197]\n",
            " [0.02133019]\n",
            " [0.37483114]\n",
            " [0.73308368]\n",
            " [0.19365446]\n",
            " [0.00766821]\n",
            " [0.51093087]\n",
            " [0.15156989]\n",
            " [0.31593896]\n",
            " [0.83880385]\n",
            " [0.31894219]\n",
            " [0.43248923]\n",
            " [0.32303667]\n",
            " [0.7732927 ]\n",
            " [0.79449095]\n",
            " [0.58282071]\n",
            " [0.14320614]\n",
            " [0.96656625]\n",
            " [0.79018323]\n",
            " [0.34438401]\n",
            " [0.52801954]\n",
            " [0.65889449]\n",
            " [0.36788823]\n",
            " [0.5747543 ]\n",
            " [0.37673451]\n",
            " [0.86803942]\n",
            " [0.1490133 ]\n",
            " [0.69341055]\n",
            " [0.57907206]\n",
            " [0.13142083]\n",
            " [0.75191637]\n",
            " [0.24669335]\n",
            " [0.04591983]\n",
            " [0.17212393]\n",
            " [0.9785664 ]\n",
            " [0.71695223]\n",
            " [0.13522919]\n",
            " [0.88621945]\n",
            " [0.84154784]\n",
            " [0.62929378]\n",
            " [0.33959835]\n",
            " [0.41660083]\n",
            " [0.87000554]\n",
            " [0.56678272]\n",
            " [0.20867367]\n",
            " [0.52431933]\n",
            " [0.60505214]\n",
            " [0.19375439]\n",
            " [0.4305577 ]\n",
            " [0.16207142]\n",
            " [0.73339423]\n",
            " [0.42025924]\n",
            " [0.31207901]\n",
            " [0.02863659]\n",
            " [0.13673013]\n",
            " [0.65965028]\n",
            " [0.65402563]\n",
            " [0.0096004 ]\n",
            " [0.89648279]\n",
            " [0.07557207]\n",
            " [0.63048509]\n",
            " [0.41388388]\n",
            " [0.71558895]\n",
            " [0.74302083]\n",
            " [0.61243438]\n",
            " [0.38084146]\n",
            " [0.49877282]\n",
            " [0.82780901]\n",
            " [0.04516597]\n",
            " [0.19744343]\n",
            " [0.42782901]\n",
            " [0.32317432]\n",
            " [0.79681433]\n",
            " [0.8865868 ]\n",
            " [0.95933205]\n",
            " [0.12559007]\n",
            " [0.62154266]\n",
            " [0.74016847]\n",
            " [0.38333411]\n",
            " [0.59463472]]\n"
          ],
          "name": "stdout"
        }
      ]
    },
    {
      "cell_type": "markdown",
      "metadata": {
        "id": "ZGGMPaLji5or",
        "colab_type": "text"
      },
      "source": [
        "위의 함수로 생성된 input 값 두개는 다음과 같이 활용됩니다.\n",
        "\n",
        "![GAN input data](figure/1.jpeg)"
      ]
    },
    {
      "cell_type": "markdown",
      "metadata": {
        "id": "p2f054vfT7qv",
        "colab_type": "text"
      },
      "source": [
        "## Generator 와 Discriminator\n",
        "\n",
        "이제 Generator와 Discriminator를 만들겠습니다."
      ]
    },
    {
      "cell_type": "code",
      "metadata": {
        "id": "ZVdY5k8SUF78",
        "colab_type": "code",
        "colab": {
          "base_uri": "https://localhost:8080/",
          "height": 34
        },
        "outputId": "d14d89a7-f1e2-46c2-e13c-747f76da545d"
      },
      "source": [
        "class Discriminator:\n",
        "    def __init__(self, input_size, hidden_size, output_size):\n",
        "        super(Discriminator, self).__init__()\n",
        "        self.D_W1 = tf.Variable(tf.random_normal([input_size, hidden_size], stddev=0.01))\n",
        "        self.D_W2 = tf.Variable(tf.random_normal([hidden_size, output_size], stddev=0.01))\n",
        "        self.D_b1 = tf.Variable(tf.zeros([hidden_size]))\n",
        "        self.D_b2 = tf.Variable(tf.zeros([output_size]))\n",
        "\n",
        "    def forward(self, inputs):\n",
        "        hidden = tf.nn.relu(tf.matmul(inputs, self.D_W1) + self.D_b1)\n",
        "        output = tf.nn.sigmoid(tf.matmul(hidden, self.D_w) + self.D_b2)\n",
        "        return output\n",
        "        \n",
        "\n",
        "class Generator:\n",
        "    def __init__(self, input_size, hidden_size, output_size):\n",
        "        super(Generator, self).__init__()\n",
        "        self.G_W1 = tf.Variable(tf.random_normal([input_size, hidden_size], stddev=0.01))\n",
        "        self.G_W2 = tf.Variable(tf.random_normal([hidden_size, output_size], stddev=0.01))\n",
        "        self.G_b1 = tf.Variable(tf.zeros([hidden_size]))\n",
        "        self.G_b2 = tf.Variable(tf.zeros([output_size]))\n",
        "\n",
        "    def forward(self, inputs):\n",
        "        hidden = tf.nn.relu(tf.matmul(inputs, self.G_W1) + self.G_b1)\n",
        "        output = tf.nn.sigmoid(tf.matmul(hidden, self.G_w) + self.G_b2)\n",
        "        return output\n",
        "\n",
        "## input size , hidden size = 256, output size = 1(True or False)\n",
        "D = Discriminator(input_size= d_input_size, hidden_size=d_hidden_size, output_size=d_output_size)\n",
        "## input size = 1, hidden size = 256, output size = 1(1 x n)\n",
        "G = Generator(input_size=g_input_size, hidden_size=g_hidden_size, output_size=g_output_size)\n",
        "        "
      ],
      "execution_count": 47,
      "outputs": [
        {
          "output_type": "stream",
          "text": [
            "<__main__.Discriminator object at 0x7f8997bb2c18>\n"
          ],
          "name": "stdout"
        }
      ]
    }
  ]
}