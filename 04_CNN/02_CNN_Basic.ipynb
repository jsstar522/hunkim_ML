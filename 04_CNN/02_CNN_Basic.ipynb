{
  "nbformat": 4,
  "nbformat_minor": 0,
  "metadata": {
    "colab": {
      "name": "02_CNN_Basic.ipynb",
      "provenance": [],
      "collapsed_sections": [],
      "include_colab_link": true
    },
    "kernelspec": {
      "name": "python3",
      "display_name": "Python 3"
    }
  },
  "cells": [
    {
      "cell_type": "markdown",
      "metadata": {
        "id": "view-in-github",
        "colab_type": "text"
      },
      "source": [
        "<a href=\"https://colab.research.google.com/github/jsstar522/hunkim_ML/blob/master/04_CNN/02_CNN_Basic.ipynb\" target=\"_parent\"><img src=\"https://colab.research.google.com/assets/colab-badge.svg\" alt=\"Open In Colab\"/></a>"
      ]
    },
    {
      "cell_type": "markdown",
      "metadata": {
        "id": "n_fx41L9w6fj",
        "colab_type": "text"
      },
      "source": [
        "# CNN Basic example"
      ]
    },
    {
      "cell_type": "markdown",
      "metadata": {
        "id": "57Tj56lUx2uM",
        "colab_type": "text"
      },
      "source": [
        "## Filter를 거친 후의 이미지"
      ]
    },
    {
      "cell_type": "code",
      "metadata": {
        "id": "_EaPgzUazbc1",
        "colab_type": "code",
        "colab": {}
      },
      "source": [
        "import tensorflow as tf\n",
        "import numpy as np\n",
        "import matplotlib.pyplot as plt"
      ],
      "execution_count": 0,
      "outputs": []
    },
    {
      "cell_type": "code",
      "metadata": {
        "id": "DMmk6qI8zfZn",
        "colab_type": "code",
        "colab": {
          "base_uri": "https://localhost:8080/",
          "height": 357
        },
        "outputId": "cc494ded-6e7f-4955-b328-8b5f0d007769"
      },
      "source": [
        "sess = tf.InteractiveSession()\n",
        "## 최초 이미지 3x3 (input)\n",
        "image = np.array([[[[1], [2], [3]],\n",
        "                   [[4], [5], [6]],\n",
        "                   [[7], [8], [9]]]], dtype=np.float32)\n",
        "print(image.shape)\n",
        "plt.imshow(image.reshape(3,3), cmap='Blues')"
      ],
      "execution_count": 16,
      "outputs": [
        {
          "output_type": "stream",
          "text": [
            "(1, 3, 3, 1)\n"
          ],
          "name": "stdout"
        },
        {
          "output_type": "stream",
          "text": [
            "/usr/local/lib/python3.6/dist-packages/tensorflow/python/client/session.py:1735: UserWarning: An interactive session is already active. This can cause out-of-memory errors in some cases. You must explicitly call `InteractiveSession.close()` to release resources held by the other session(s).\n",
            "  warnings.warn('An interactive session is already active. This can '\n"
          ],
          "name": "stderr"
        },
        {
          "output_type": "execute_result",
          "data": {
            "text/plain": [
              "<matplotlib.image.AxesImage at 0x7f70c2c7f198>"
            ]
          },
          "metadata": {
            "tags": []
          },
          "execution_count": 16
        },
        {
          "output_type": "display_data",
          "data": {
            "image/png": "[encoded data removed]",
            "text/plain": [
              "<Figure size 432x288 with 1 Axes>"
            ]
          },
          "metadata": {
            "tags": []
          }
        }
      ]
    },
    {
      "cell_type": "markdown",
      "metadata": {
        "id": "uhLxfCi30FS7",
        "colab_type": "text"
      },
      "source": [
        "shape은 (1, 3, 3, 1)이 나오고 3x3의 한가지 색을 가진 이미지가 1개 있다는 의미입니다. 이제 (2, 2)의 하나의 색을 가진 filter 1개로 위 이미지를 filtering 해보겠습니다."
      ]
    },
    {
      "cell_type": "code",
      "metadata": {
        "id": "BiDWiEOI1yZL",
        "colab_type": "code",
        "colab": {
          "base_uri": "https://localhost:8080/",
          "height": 272
        },
        "outputId": "a58703ad-63aa-42fc-f0e0-c27c8455aef9"
      },
      "source": [
        "weight = tf.constant([[[[1.]], [[1.]]],\n",
        "                      [[[1.]], [[1.]]]])\n",
        "print(weight.shape)\n",
        "## 2x2의 이미지, 1개의 색, number of filter\n",
        "\n",
        "conv2d = tf.nn.conv2d(image, weight, strides=[1,1,1,1], padding='VALID')\n",
        "conv2d_img = conv2d.eval()\n",
        "print(\"conv2d_img shape: \", conv2d_img.shape)\n",
        "conv2d_img = np.swapaxes(conv2d_img, 0, 3)\n",
        "for i, one_img in enumerate(conv2d_img):\n",
        "    print(one_img.reshape(2,2))\n",
        "    plt.subplot(1, 2, i+1), plt.imshow(one_img.reshape(2, 2), cmap='Blues')"
      ],
      "execution_count": 24,
      "outputs": [
        {
          "output_type": "stream",
          "text": [
            "(2, 2, 1, 1)\n",
            "conv2d_img shape:  (1, 2, 2, 1)\n",
            "[[12. 16.]\n",
            " [24. 28.]]\n"
          ],
          "name": "stdout"
        },
        {
          "output_type": "display_data",
          "data": {
            "image/png": "[encoded data removed]",
            "text/plain": [
              "<Figure size 432x288 with 1 Axes>"
            ]
          },
          "metadata": {
            "tags": []
          }
        }
      ]
    },
    {
      "cell_type": "markdown",
      "metadata": {
        "id": "XpyLKGa58RmG",
        "colab_type": "text"
      },
      "source": [
        "필터를 통과한 이미지는 12, 16, 24, 28의 값을 갖는 2x2의 이미지입니다."
      ]
    },
    {
      "cell_type": "markdown",
      "metadata": {
        "id": "Se_80sQ58b2D",
        "colab_type": "text"
      },
      "source": [
        "## Padding\n",
        "\n",
        "이미지가 작아지면서 잃어버리는 정보를 막기 위해 padding을 사용하겠습니다. padding은 기본 이미지에 테두리를 둘러서 output 이미지를 크게 만드는 방법인데, padding=\"SAME\" 조건을 주면 간단하게 input image와 output image의 크기를 맞출 수 있습니다."
      ]
    },
    {
      "cell_type": "code",
      "metadata": {
        "id": "Ydecesgu89u7",
        "colab_type": "code",
        "colab": {
          "base_uri": "https://localhost:8080/",
          "height": 289
        },
        "outputId": "7dcf9e83-e352-46f3-d83a-b242da515bb0"
      },
      "source": [
        "weight = tf.constant([[[[1.]], [[1.]]],\n",
        "                      [[[1.]], [[1.]]]])\n",
        "print(weight.shape)\n",
        "## 2x2의 이미지, 1개의 색, number of filter\n",
        "\n",
        "conv2d = tf.nn.conv2d(image, weight, strides=[1,1,1,1], padding='SAME')\n",
        "conv2d_img = conv2d.eval()\n",
        "print(\"conv2d_img shape: \", conv2d_img.shape)\n",
        "conv2d_img = np.swapaxes(conv2d_img, 0, 3)\n",
        "for i, one_img in enumerate(conv2d_img):\n",
        "    print(one_img.reshape(3,3))\n",
        "    plt.subplot(1, 2, i+1), plt.imshow(one_img.reshape(3, 3), cmap='Blues')"
      ],
      "execution_count": 25,
      "outputs": [
        {
          "output_type": "stream",
          "text": [
            "(2, 2, 1, 1)\n",
            "conv2d_img shape:  (1, 3, 3, 1)\n",
            "[[12. 16.  9.]\n",
            " [24. 28. 15.]\n",
            " [15. 17.  9.]]\n"
          ],
          "name": "stdout"
        },
        {
          "output_type": "display_data",
          "data": {
            "image/png": "[encoded data removed]",
            "text/plain": [
              "<Figure size 432x288 with 1 Axes>"
            ]
          },
          "metadata": {
            "tags": []
          }
        }
      ]
    },
    {
      "cell_type": "markdown",
      "metadata": {
        "id": "qZE2x6zn9L5s",
        "colab_type": "text"
      },
      "source": [
        "이제 filter가 하나가 아닌 여러개를 사용해보겠습니다."
      ]
    },
    {
      "cell_type": "code",
      "metadata": {
        "colab_type": "code",
        "outputId": "95e67822-69c1-458e-b5ae-9dda1c11eaae",
        "id": "MbLw5KIe9uIv",
        "colab": {
          "base_uri": "https://localhost:8080/",
          "height": 337
        }
      },
      "source": [
        "weight = tf.constant([[[[1., 10., -1]], [[1., 10., -1]]],\n",
        "                      [[[1., 10., -1]], [[1., 10., -1]]]])\n",
        "print(weight.shape)\n",
        "## 2x2의 이미지, 1개의 색, number of filter\n",
        "\n",
        "conv2d = tf.nn.conv2d(image, weight, strides=[1,1,1,1], padding='SAME')\n",
        "conv2d_img = conv2d.eval()\n",
        "print(\"conv2d_img shape: \", conv2d_img.shape)\n",
        "conv2d_img = np.swapaxes(conv2d_img, 0, 3)\n",
        "for i, one_img in enumerate(conv2d_img):\n",
        "    print(one_img.reshape(3,3))\n",
        "    plt.subplot(1, 3, i+1), plt.imshow(one_img.reshape(3, 3), cmap='Blues')"
      ],
      "execution_count": 28,
      "outputs": [
        {
          "output_type": "stream",
          "text": [
            "(2, 2, 1, 3)\n",
            "conv2d_img shape:  (1, 3, 3, 3)\n",
            "[[12. 16.  9.]\n",
            " [24. 28. 15.]\n",
            " [15. 17.  9.]]\n",
            "[[120. 160.  90.]\n",
            " [240. 280. 150.]\n",
            " [150. 170.  90.]]\n",
            "[[-12. -16.  -9.]\n",
            " [-24. -28. -15.]\n",
            " [-15. -17.  -9.]]\n"
          ],
          "name": "stdout"
        },
        {
          "output_type": "display_data",
          "data": {
            "image/png": "[encoded data removed]",
            "text/plain": [
              "<Figure size 432x288 with 3 Axes>"
            ]
          },
          "metadata": {
            "tags": []
          }
        }
      ]
    },
    {
      "cell_type": "markdown",
      "metadata": {
        "id": "YzCREqOS9upX",
        "colab_type": "text"
      },
      "source": [
        "## Max Pooling\n",
        "\n",
        "이미지에서 filter 범위 내에 가장 의미있는 값을 뽑아내는 Max pooling 방법을 사용해보겠습니다."
      ]
    },
    {
      "cell_type": "code",
      "metadata": {
        "id": "R8Uw34uw-h7Q",
        "colab_type": "code",
        "colab": {
          "base_uri": "https://localhost:8080/",
          "height": 119
        },
        "outputId": "ac39438a-79d3-43da-e5c9-505bdbb742b3"
      },
      "source": [
        "image = np.array([[[[4],[3]],\n",
        "                   [[2],[1]]]], dtype=np.float32)\n",
        "\n",
        "pool = tf.nn.max_pool(image, ksize=[1, 2, 2, 1], strides=[1, 1, 1, 1], padding=\"SAME\")\n",
        "print(pool.shape)\n",
        "print(pool.eval())"
      ],
      "execution_count": 29,
      "outputs": [
        {
          "output_type": "stream",
          "text": [
            "(1, 2, 2, 1)\n",
            "[[[[4.]\n",
            "   [3.]]\n",
            "\n",
            "  [[2.]\n",
            "   [1.]]]]\n"
          ],
          "name": "stdout"
        }
      ]
    },
    {
      "cell_type": "markdown",
      "metadata": {
        "id": "r0lyQdy7_A-I",
        "colab_type": "text"
      },
      "source": [
        "4, 3, 2, 1 의 값을 가진 2x2의 이미지에 padding을 적용하고 2x2 filter 1개로 filtering 하면서 filter 범위에서 가장 큰 값을 뽑아낸 결과는  4, 3, 2, 1로 똑같이 나오게 됩니다."
      ]
    },
    {
      "cell_type": "markdown",
      "metadata": {
        "id": "a5ZxL58w_S0B",
        "colab_type": "text"
      },
      "source": [
        "## MNIST\n",
        "\n",
        "이제 MNIST 데이터에서 Conv을 적용시켜보겠습니다."
      ]
    },
    {
      "cell_type": "code",
      "metadata": {
        "id": "_JfRmOzC_gnu",
        "colab_type": "code",
        "colab": {
          "base_uri": "https://localhost:8080/",
          "height": 354
        },
        "outputId": "8ec1ae04-68e9-432d-fc04-cc897bd0231e"
      },
      "source": [
        "from tensorflow.examples.tutorials.mnist import input_data\n",
        "mnist = input_data.read_data_sets(\"MNIST_dta/\", one_hot=True)\n",
        "\n",
        "img = mnist.train.images[0].reshape(28, 28)\n",
        "plt.imshow(img, cmap='Blues')"
      ],
      "execution_count": 32,
      "outputs": [
        {
          "output_type": "stream",
          "text": [
            "Extracting MNIST_dta/train-images-idx3-ubyte.gz\n",
            "Extracting MNIST_dta/train-labels-idx1-ubyte.gz\n",
            "Extracting MNIST_dta/t10k-images-idx3-ubyte.gz\n",
            "Extracting MNIST_dta/t10k-labels-idx1-ubyte.gz\n"
          ],
          "name": "stdout"
        },
        {
          "output_type": "execute_result",
          "data": {
            "text/plain": [
              "<matplotlib.image.AxesImage at 0x7f70b6044828>"
            ]
          },
          "metadata": {
            "tags": []
          },
          "execution_count": 32
        },
        {
          "output_type": "display_data",
          "data": {
            "image/png": "[encoded data removed]",
            "text/plain": [
              "<Figure size 432x288 with 1 Axes>"
            ]
          },
          "metadata": {
            "tags": []
          }
        }
      ]
    },
    {
      "cell_type": "code",
      "metadata": {
        "id": "kZYgDJbI_5Ap",
        "colab_type": "code",
        "colab": {
          "base_uri": "https://localhost:8080/",
          "height": 180
        },
        "outputId": "a4ec9fde-36f4-47bc-c2fe-8c4f95e395d5"
      },
      "source": [
        "sess = tf.InteractiveSession()\n",
        "\n",
        "## -1개의 이미지 = 개수에 신경쓰지 않는다\n",
        "img = img.reshape( -1, 28, 28, 1)\n",
        "## 5개의 filter\n",
        "W1 = tf.Variable(tf.random_normal([3, 3, 1, 5], stddev=0.01))\n",
        "conv2d = tf.nn.conv2d(img, W1, strides=[1, 2, 2, 1], padding=\"SAME\")\n",
        "print(conv2d)\n",
        "\n",
        "## 필터링된 이미지\n",
        "sess.run(tf.global_variables_initializer())\n",
        "conv2d_img = conv2d.eval()\n",
        "conv2d_img = np.swapaxes(conv2d_img, 0, 3)\n",
        "for i, one_img in enumerate(conv2d_img):\n",
        "    plt.subplot(1, 5, i+1), plt.imshow(one_img.reshape(14, 14), cmap='Blues')\n"
      ],
      "execution_count": 36,
      "outputs": [
        {
          "output_type": "stream",
          "text": [
            "/usr/local/lib/python3.6/dist-packages/tensorflow/python/client/session.py:1735: UserWarning: An interactive session is already active. This can cause out-of-memory errors in some cases. You must explicitly call `InteractiveSession.close()` to release resources held by the other session(s).\n",
            "  warnings.warn('An interactive session is already active. This can '\n"
          ],
          "name": "stderr"
        },
        {
          "output_type": "stream",
          "text": [
            "Tensor(\"Conv2D_10:0\", shape=(1, 14, 14, 5), dtype=float32)\n"
          ],
          "name": "stdout"
        },
        {
          "output_type": "display_data",
          "data": {
            "image/png": "[encoded data removed]",
            "text/plain": [
              "<Figure size 432x288 with 5 Axes>"
            ]
          },
          "metadata": {
            "tags": []
          }
        }
      ]
    },
    {
      "cell_type": "code",
      "metadata": {
        "id": "Ka_PebwPA3m_",
        "colab_type": "code",
        "colab": {
          "base_uri": "https://localhost:8080/",
          "height": 126
        },
        "outputId": "0dca3b55-1efb-4bcb-c8be-51e9d2e6b41a"
      },
      "source": [
        "## Max pooling\n",
        "\n",
        "pool = tf.nn.max_pool(conv2d, ksize=[1, 2, 2, 1], strides=[1, 2, 2, 1], padding='SAME')\n",
        "print(pool)\n",
        "sess.run(tf.global_variables_initializer())\n",
        "pool_img = pool.eval()\n",
        "pool_img = np.swapaxes(pool_img, 0, 3)\n",
        "for i, one_img in enumerate(pool_img):\n",
        "    plt.subplot(1, 5, i+1), plt.imshow(one_img.reshape(7, 7), cmap='Blues')"
      ],
      "execution_count": 38,
      "outputs": [
        {
          "output_type": "stream",
          "text": [
            "Tensor(\"MaxPool_1:0\", shape=(1, 7, 7, 5), dtype=float32)\n"
          ],
          "name": "stdout"
        },
        {
          "output_type": "display_data",
          "data": {
            "image/png": "[encoded data removed]",
            "text/plain": [
              "<Figure size 432x288 with 5 Axes>"
            ]
          },
          "metadata": {
            "tags": []
          }
        }
      ]
    }
  ]
}